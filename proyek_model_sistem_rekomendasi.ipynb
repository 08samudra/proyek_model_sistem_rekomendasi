{
 "cells": [
  {
   "cell_type": "markdown",
   "metadata": {},
   "source": [
    "## MovieLens Recommendation System"
   ]
  },
  {
   "cell_type": "markdown",
   "metadata": {},
   "source": [
    "Notebook ini berisi tahapan lengkap pembuatan sistem rekomendasi film berbasis MovieLens, mulai dari pemahaman data, eksplorasi, persiapan data, pemodelan, hingga evaluasi. Setiap tahapan dijelaskan secara singkat untuk memudahkan pemahaman proses dan hasil yang diperoleh."
   ]
  },
  {
   "cell_type": "markdown",
   "metadata": {},
   "source": [
    "## Import Library\n",
    "Import semua library yang dibutuhkan untuk semua proses yang akan dijalankan."
   ]
  },
  {
   "cell_type": "code",
   "execution_count": 1,
   "metadata": {
    "id": "fmwPe871nuNh"
   },
   "outputs": [],
   "source": [
    "# Import library yang diperlukan\n",
    "import pandas as pd\n",
    "import numpy as np\n",
    "import matplotlib.pyplot as plt\n",
    "import seaborn as sns\n",
    "from sklearn.metrics import mean_squared_error\n",
    "from sklearn.metrics.pairwise import cosine_similarity\n",
    "from sklearn.model_selection import train_test_split\n",
    "\n",
    "# Konfigurasi visualisasi\n",
    "sns.set(style='whitegrid')\n",
    "plt.rcParams['figure.figsize'] = (10, 6)\n"
   ]
  },
  {
   "cell_type": "markdown",
   "metadata": {
    "id": "pi60ouUiu5tQ"
   },
   "source": [
    "## Load Datasets\n",
    "Pada bagian ini dilakukan proses load seluruh dataset yang akan digunakan, yaitu movies, ratings, tags, dan links. Data ini akan menjadi dasar untuk analisis dan pemodelan sistem rekomendasi."
   ]
  },
  {
   "cell_type": "code",
   "execution_count": 2,
   "metadata": {
    "id": "fFfGGI46tAPM"
   },
   "outputs": [],
   "source": [
    "# Load semua dataset\n",
    "movies_df = pd.read_csv('datasets/movies.csv')\n",
    "ratings_df = pd.read_csv('datasets/ratings.csv')\n",
    "tags_df = pd.read_csv('datasets/tags.csv')\n",
    "links_df = pd.read_csv('datasets/links.csv')"
   ]
  },
  {
   "cell_type": "markdown",
   "metadata": {
    "id": "GRC6P6ZxA7MN"
   },
   "source": [
    "## Data Understanding\n",
    "Bagian ini bertujuan untuk memahami struktur, isi, dan kualitas data. Ditampilkan beberapa baris awal dari setiap dataset untuk melihat format dan contoh data, serta dilakukan pengecekan ukuran dan missing value pada masing-masing dataset."
   ]
  },
  {
   "cell_type": "code",
   "execution_count": 3,
   "metadata": {
    "colab": {
     "base_uri": "https://localhost:8080/"
    },
    "id": "ErT2pTioBGIq",
    "outputId": "b11cfa10-5dda-4e91-b72b-75fe8c2030ed"
   },
   "outputs": [
    {
     "name": "stdout",
     "output_type": "stream",
     "text": [
      "Movies:\n",
      "   movieId                               title  \\\n",
      "0        1                    Toy Story (1995)   \n",
      "1        2                      Jumanji (1995)   \n",
      "2        3             Grumpier Old Men (1995)   \n",
      "3        4            Waiting to Exhale (1995)   \n",
      "4        5  Father of the Bride Part II (1995)   \n",
      "\n",
      "                                        genres  \n",
      "0  Adventure|Animation|Children|Comedy|Fantasy  \n",
      "1                   Adventure|Children|Fantasy  \n",
      "2                               Comedy|Romance  \n",
      "3                         Comedy|Drama|Romance  \n",
      "4                                       Comedy  \n",
      "\n",
      "Ratings:\n",
      "   userId  movieId  rating  timestamp\n",
      "0       1        1     4.0  964982703\n",
      "1       1        3     4.0  964981247\n",
      "2       1        6     4.0  964982224\n",
      "3       1       47     5.0  964983815\n",
      "4       1       50     5.0  964982931\n",
      "\n",
      "Tags:\n",
      "   userId  movieId              tag   timestamp\n",
      "0       2    60756            funny  1445714994\n",
      "1       2    60756  Highly quotable  1445714996\n",
      "2       2    60756     will ferrell  1445714992\n",
      "3       2    89774     Boxing story  1445715207\n",
      "4       2    89774              MMA  1445715200\n",
      "\n",
      "Links:\n",
      "   movieId  imdbId   tmdbId\n",
      "0        1  114709    862.0\n",
      "1        2  113497   8844.0\n",
      "2        3  113228  15602.0\n",
      "3        4  114885  31357.0\n",
      "4        5  113041  11862.0\n"
     ]
    }
   ],
   "source": [
    "# Tampilkan 5 baris pertama untuk masing-masing\n",
    "print(\"Movies:\")\n",
    "print(movies_df.head())\n",
    "print(\"\\nRatings:\")\n",
    "print(ratings_df.head())\n",
    "print(\"\\nTags:\")\n",
    "print(tags_df.head())\n",
    "print(\"\\nLinks:\")\n",
    "print(links_df.head())"
   ]
  },
  {
   "cell_type": "markdown",
   "metadata": {
    "id": "QsyLBIJ_603V"
   },
   "source": [
    "### Ukuran dan missing value\n",
    "Bagian ini bertujuan untuk memeriksa ukuran (jumlah baris/kolom) dan keberadaan missing value pada setiap dataset. Hal ini penting untuk memastikan data yang digunakan sudah bersih dan siap untuk proses analisis dan pemodelan."
   ]
  },
  {
   "cell_type": "code",
   "execution_count": 4,
   "metadata": {
    "colab": {
     "base_uri": "https://localhost:8080/"
    },
    "id": "IvbDxrPt6tMj",
    "outputId": "27e83587-2cc5-4cde-a52b-144d720ac387"
   },
   "outputs": [
    {
     "name": "stdout",
     "output_type": "stream",
     "text": [
      "Movies Info:\n",
      "<class 'pandas.core.frame.DataFrame'>\n",
      "RangeIndex: 9742 entries, 0 to 9741\n",
      "Data columns (total 3 columns):\n",
      " #   Column   Non-Null Count  Dtype \n",
      "---  ------   --------------  ----- \n",
      " 0   movieId  9742 non-null   int64 \n",
      " 1   title    9742 non-null   object\n",
      " 2   genres   9742 non-null   object\n",
      "dtypes: int64(1), object(2)\n",
      "memory usage: 228.5+ KB\n",
      "None\n",
      "\n",
      "Ratings Info:\n",
      "<class 'pandas.core.frame.DataFrame'>\n",
      "RangeIndex: 100836 entries, 0 to 100835\n",
      "Data columns (total 4 columns):\n",
      " #   Column     Non-Null Count   Dtype  \n",
      "---  ------     --------------   -----  \n",
      " 0   userId     100836 non-null  int64  \n",
      " 1   movieId    100836 non-null  int64  \n",
      " 2   rating     100836 non-null  float64\n",
      " 3   timestamp  100836 non-null  int64  \n",
      "dtypes: float64(1), int64(3)\n",
      "memory usage: 3.1 MB\n",
      "None\n",
      "\n",
      "Tags Info:\n",
      "<class 'pandas.core.frame.DataFrame'>\n",
      "RangeIndex: 3683 entries, 0 to 3682\n",
      "Data columns (total 4 columns):\n",
      " #   Column     Non-Null Count  Dtype \n",
      "---  ------     --------------  ----- \n",
      " 0   userId     3683 non-null   int64 \n",
      " 1   movieId    3683 non-null   int64 \n",
      " 2   tag        3683 non-null   object\n",
      " 3   timestamp  3683 non-null   int64 \n",
      "dtypes: int64(3), object(1)\n",
      "memory usage: 115.2+ KB\n",
      "None\n",
      "\n",
      "Links Info:\n",
      "<class 'pandas.core.frame.DataFrame'>\n",
      "RangeIndex: 9742 entries, 0 to 9741\n",
      "Data columns (total 3 columns):\n",
      " #   Column   Non-Null Count  Dtype  \n",
      "---  ------   --------------  -----  \n",
      " 0   movieId  9742 non-null   int64  \n",
      " 1   imdbId   9742 non-null   int64  \n",
      " 2   tmdbId   9734 non-null   float64\n",
      "dtypes: float64(1), int64(2)\n",
      "memory usage: 228.5 KB\n",
      "None\n"
     ]
    }
   ],
   "source": [
    "# Cek informasi dataset dan missing value\n",
    "print(\"Movies Info:\")\n",
    "print(movies_df.info())\n",
    "\n",
    "print(\"\\nRatings Info:\")\n",
    "print(ratings_df.info())\n",
    "\n",
    "print(\"\\nTags Info:\")\n",
    "print(tags_df.info())\n",
    "\n",
    "print(\"\\nLinks Info:\")\n",
    "print(links_df.info())\n"
   ]
  },
  {
   "cell_type": "markdown",
   "metadata": {
    "id": "chpKs3t26roH"
   },
   "source": [
    "## Exploratory Data Analysis (EDA)\n",
    "Analisis awal dilakukan untuk memahami pola dan distribusi data rating. Pada tahap ini, dilakukan visualisasi distribusi jumlah rating per user dan per film, serta ringkasan statistiknya untuk melihat sebaran aktivitas user dan popularitas film."
   ]
  },
  {
   "cell_type": "markdown",
   "metadata": {
    "id": "FhRAtpj-FyRp"
   },
   "source": [
    "### Memeriksa Jumlah Rating\n",
    "Pada tahap ini dilakukan analisis jumlah rating yang diberikan oleh setiap user dan jumlah rating yang diterima oleh setiap film. Visualisasi distribusi ini membantu memahami pola aktivitas user dan popularitas film dalam dataset. Selain itu, ringkasan statistik juga ditampilkan untuk memberikan gambaran sebaran jumlah rating."
   ]
  },
  {
   "cell_type": "code",
   "execution_count": 5,
   "metadata": {
    "colab": {
     "base_uri": "https://localhost:8080/",
     "height": 415
    },
    "id": "taJCSTejFy1w",
    "outputId": "cf9f4e03-2b3d-4a6f-b3bf-b771b3bb2b3f"
   },
   "outputs": [
    {
     "data": {
      "image/png": "[encoded data removed]",
      "text/plain": [
       "<Figure size 1200x500 with 2 Axes>"
      ]
     },
     "metadata": {},
     "output_type": "display_data"
    },
    {
     "name": "stdout",
     "output_type": "stream",
     "text": [
      "Statistik Jumlah Rating per User:\n",
      "count     610.000000\n",
      "mean      165.304918\n",
      "std       269.480584\n",
      "min        20.000000\n",
      "25%        35.000000\n",
      "50%        70.500000\n",
      "75%       168.000000\n",
      "max      2698.000000\n",
      "dtype: float64\n",
      "\n",
      "Statistik Jumlah Rating per Movie:\n",
      "count    9724.000000\n",
      "mean       10.369807\n",
      "std        22.401005\n",
      "min         1.000000\n",
      "25%         1.000000\n",
      "50%         3.000000\n",
      "75%         9.000000\n",
      "max       329.000000\n",
      "dtype: float64\n"
     ]
    }
   ],
   "source": [
    "ratings = pd.read_csv(\"datasets/ratings.csv\")\n",
    "\n",
    "# Jumlah rating per user\n",
    "ratings_per_user = ratings.groupby(\"userId\").size()\n",
    "\n",
    "# Jumlah rating per movie\n",
    "ratings_per_movie = ratings.groupby(\"movieId\").size()\n",
    "\n",
    "# Visualisasi\n",
    "plt.figure(figsize=(12, 5))\n",
    "\n",
    "plt.subplot(1, 2, 1)\n",
    "sns.histplot(ratings_per_user, bins=50)\n",
    "plt.title(\"Distribusi Jumlah Rating per User\")\n",
    "plt.xlabel(\"Jumlah Rating\")\n",
    "plt.ylabel(\"Jumlah User\")\n",
    "\n",
    "plt.subplot(1, 2, 2)\n",
    "sns.histplot(ratings_per_movie, bins=50)\n",
    "plt.title(\"Distribusi Jumlah Rating per Movie\")\n",
    "plt.xlabel(\"Jumlah Rating\")\n",
    "plt.ylabel(\"Jumlah Movie\")\n",
    "\n",
    "plt.tight_layout()\n",
    "plt.show() \n",
    "# Tampilkan ringkasan statistik jumlah rating per user dan per movie\n",
    "print(\"Statistik Jumlah Rating per User:\")\n",
    "print(ratings_per_user.describe())\n",
    "print(\"\\nStatistik Jumlah Rating per Movie:\")\n",
    "print(ratings_per_movie.describe())"
   ]
  },
  {
   "cell_type": "markdown",
   "metadata": {
    "id": "obyA3R-77BeF"
   },
   "source": [
    "### Distribusi Rating\n",
    "Visualisasi distribusi nilai rating yang diberikan oleh user. Diperlihatkan juga jumlah masing-masing rating (1-5) untuk mengetahui kecenderungan user dalam memberikan penilaian."
   ]
  },
  {
   "cell_type": "code",
   "execution_count": 6,
   "metadata": {
    "colab": {
     "base_uri": "https://localhost:8080/",
     "height": 573
    },
    "id": "o9SgoUo768xQ",
    "outputId": "3ec4eb86-a8cf-440e-df8b-9a5412194a9c"
   },
   "outputs": [
    {
     "data": {
      "image/png": "[encoded data removed]",
      "text/plain": [
       "<Figure size 1000x600 with 1 Axes>"
      ]
     },
     "metadata": {},
     "output_type": "display_data"
    },
    {
     "name": "stdout",
     "output_type": "stream",
     "text": [
      "Jumlah rating 1: 2811\n",
      "Jumlah rating 2: 7551\n",
      "Jumlah rating 3: 20047\n",
      "Jumlah rating 4: 26818\n",
      "Jumlah rating 5: 13211\n"
     ]
    }
   ],
   "source": [
    "# Plot distribusi rating\n",
    "sns.histplot(ratings_df['rating'], bins=10, kde=True)\n",
    "plt.title('Distribusi Rating')\n",
    "plt.xlabel('Rating')\n",
    "plt.ylabel('Jumlah')\n",
    "plt.show()\n",
    "# Tampilkan jumlah masing-masing rating (1,2,3,4,5)\n",
    "rating_counts = ratings_df['rating'].value_counts().sort_index()\n",
    "for rating in range(1, 6):\n",
    "    count = rating_counts.get(rating, 0)\n",
    "    print(f\"Jumlah rating {rating}: {count}\")"
   ]
  },
  {
   "cell_type": "markdown",
   "metadata": {
    "id": "lA9jvcBN7bUU"
   },
   "source": [
    "### Film dengan Rating Terbanyak\n",
    "Analisis film dengan rating terbanyak untuk mengetahui film-film yang paling populer di dataset. Ditampilkan 10 film teratas beserta jumlah rating yang diterima."
   ]
  },
  {
   "cell_type": "code",
   "execution_count": 7,
   "metadata": {
    "colab": {
     "base_uri": "https://localhost:8080/",
     "height": 590
    },
    "id": "E-H5oBIH7m2c",
    "outputId": "49d76531-c154-4f57-ae76-f8e12171db0b"
   },
   "outputs": [
    {
     "name": "stderr",
     "output_type": "stream",
     "text": [
      "C:\\Users\\Yoga Samudra\\AppData\\Local\\Temp\\ipykernel_22864\\2371570036.py:9: FutureWarning: \n",
      "\n",
      "Passing `palette` without assigning `hue` is deprecated and will be removed in v0.14.0. Assign the `y` variable to `hue` and set `legend=False` for the same effect.\n",
      "\n",
      "  sns.barplot(data=top_films, y='title', x='Jumlah Rating', palette='viridis')\n"
     ]
    },
    {
     "data": {
      "image/png": "[encoded data removed]",
      "text/plain": [
       "<Figure size 1000x600 with 1 Axes>"
      ]
     },
     "metadata": {},
     "output_type": "display_data"
    },
    {
     "name": "stdout",
     "output_type": "stream",
     "text": [
      "10 Film dengan Rating Terbanyak:\n",
      "                                    title  Jumlah Rating\n",
      "                      Forrest Gump (1994)            329\n",
      "         Shawshank Redemption, The (1994)            317\n",
      "                      Pulp Fiction (1994)            307\n",
      "         Silence of the Lambs, The (1991)            279\n",
      "                       Matrix, The (1999)            278\n",
      "Star Wars: Episode IV - A New Hope (1977)            251\n",
      "                     Jurassic Park (1993)            238\n",
      "                        Braveheart (1995)            237\n",
      "        Terminator 2: Judgment Day (1991)            224\n",
      "                  Schindler's List (1993)            220\n"
     ]
    }
   ],
   "source": [
    "# Hitung jumlah rating per film\n",
    "film_popularitas = ratings_df.groupby('movieId')['rating'].count().sort_values(ascending=False).head(10)\n",
    "\n",
    "# Gabungkan dengan judul\n",
    "top_films = pd.merge(film_popularitas.reset_index(), movies_df, on='movieId')\n",
    "top_films.columns = ['movieId', 'Jumlah Rating', 'title', 'genres']\n",
    "\n",
    "# Plot\n",
    "sns.barplot(data=top_films, y='title', x='Jumlah Rating', palette='viridis')\n",
    "plt.title('10 Film dengan Rating Terbanyak')\n",
    "plt.xlabel('Jumlah Rating')\n",
    "plt.ylabel('Judul Film')\n",
    "plt.show()\n",
    "# Tampilkan tabel 10 film dengan rating terbanyak\n",
    "print(\"10 Film dengan Rating Terbanyak:\")\n",
    "print(top_films[['title', 'Jumlah Rating']].to_string(index=False))"
   ]
  },
  {
   "cell_type": "markdown",
   "metadata": {},
   "source": [
    "## Data Preparation\n",
    "Bagian ini berisi tahapan persiapan data sebelum pemodelan. Data diproses agar sesuai dengan kebutuhan masing-masing pendekatan (content-based dan collaborative filtering)."
   ]
  },
  {
   "cell_type": "markdown",
   "metadata": {
    "id": "XJUEXXBr98SL"
   },
   "source": [
    "### Untuk Content-Based Filtering\n",
    "Persiapan data untuk content-based filtering dimulai dengan membersihkan kolom genres pada dataset film agar dapat diproses lebih lanjut."
   ]
  },
  {
   "cell_type": "code",
   "execution_count": 8,
   "metadata": {
    "colab": {
     "base_uri": "https://localhost:8080/"
    },
    "id": "xSlzVL19L0m6",
    "outputId": "30c4b09f-3569-41a6-a18c-4f0328d79432"
   },
   "outputs": [
    {
     "name": "stdout",
     "output_type": "stream",
     "text": [
      "   movieId                               title  \\\n",
      "0        1                    Toy Story (1995)   \n",
      "1        2                      Jumanji (1995)   \n",
      "2        3             Grumpier Old Men (1995)   \n",
      "3        4            Waiting to Exhale (1995)   \n",
      "4        5  Father of the Bride Part II (1995)   \n",
      "\n",
      "                                        genres  \n",
      "0  Adventure|Animation|Children|Comedy|Fantasy  \n",
      "1                   Adventure|Children|Fantasy  \n",
      "2                               Comedy|Romance  \n",
      "3                         Comedy|Drama|Romance  \n",
      "4                                       Comedy  \n"
     ]
    }
   ],
   "source": [
    "# Load data film\n",
    "movies = pd.read_csv('datasets/movies.csv')\n",
    "\n",
    "# Lihat beberapa data awal\n",
    "print(movies.head())\n"
   ]
  },
  {
   "cell_type": "markdown",
   "metadata": {
    "id": "qRRqg6uPLm9a"
   },
   "source": [
    "#### Bersihkan kolom genres\n",
    "Pada tahap ini kolom genres dibersihkan agar dapat diproses oleh TF-IDF "
   ]
  },
  {
   "cell_type": "code",
   "execution_count": 9,
   "metadata": {
    "id": "GevDAr-I-GGL"
   },
   "outputs": [],
   "source": [
    "# Ganti '|' menjadi spasi agar bisa diproses oleh TF-IDF\n",
    "movies['genres_clean'] = movies['genres'].str.replace('|', ' ', regex=False)\n"
   ]
  },
  {
   "cell_type": "markdown",
   "metadata": {
    "id": "cQHbdSfIL8_J"
   },
   "source": [
    "#### TF-IDF Vectorization\n",
    "Pada tahap ini, dilakukan ekstraksi fitur genre menggunakan TF-IDF Vectorizer. Setiap film direpresentasikan sebagai vektor numerik berdasarkan genre-nya, yang akan digunakan untuk menghitung kemiripan antar film."
   ]
  },
  {
   "cell_type": "code",
   "execution_count": 10,
   "metadata": {
    "colab": {
     "base_uri": "https://localhost:8080/"
    },
    "id": "Ej4tN-GiLoB5",
    "outputId": "e089799d-6bb8-485f-fa0e-d16dd98cdc3e"
   },
   "outputs": [
    {
     "name": "stdout",
     "output_type": "stream",
     "text": [
      "TF-IDF Matrix shape: (9742, 23)\n"
     ]
    }
   ],
   "source": [
    "from sklearn.feature_extraction.text import TfidfVectorizer\n",
    "\n",
    "# Inisialisasi dan transformasi TF-IDF\n",
    "tfidf = TfidfVectorizer(stop_words='english')\n",
    "tfidf_matrix = tfidf.fit_transform(movies['genres_clean'])\n",
    "\n",
    "# Simpan feature names\n",
    "tfidf_feature_names = tfidf.get_feature_names_out()\n",
    "\n",
    "# Lihat dimensi matrix\n",
    "print(\"TF-IDF Matrix shape:\", tfidf_matrix.shape)\n"
   ]
  },
  {
   "cell_type": "markdown",
   "metadata": {
    "id": "4UhEpBxZMQjW"
   },
   "source": [
    "#### Menyimpan Data yang Dibutuhkan\n",
    "Data penting seperti movieId dan title disimpan untuk keperluan interpretasi hasil rekomendasi pada tahap selanjutnya."
   ]
  },
  {
   "cell_type": "code",
   "execution_count": 11,
   "metadata": {
    "id": "DzQwmxhnMMu1"
   },
   "outputs": [],
   "source": [
    "# Simpan dataframe untuk kebutuhan model nanti\n",
    "movie_ids = movies['movieId']\n",
    "movie_titles = movies['title']\n"
   ]
  },
  {
   "cell_type": "markdown",
   "metadata": {
    "id": "iNAbErGoMZLd"
   },
   "source": [
    "### Untuk Collaborative Filtering\n",
    "Persiapan data untuk collaborative filtering, yaitu membaca data rating dan menampilkan beberapa baris awal untuk memastikan data sudah benar."
   ]
  },
  {
   "cell_type": "code",
   "execution_count": 12,
   "metadata": {
    "colab": {
     "base_uri": "https://localhost:8080/"
    },
    "id": "Agfnk0eWMm97",
    "outputId": "2e610ef9-fd03-43c6-9c8c-89a669edacfa"
   },
   "outputs": [
    {
     "name": "stdout",
     "output_type": "stream",
     "text": [
      "   userId  movieId  rating  timestamp\n",
      "0       1        1     4.0  964982703\n",
      "1       1        3     4.0  964981247\n",
      "2       1        6     4.0  964982224\n",
      "3       1       47     5.0  964983815\n",
      "4       1       50     5.0  964982931\n"
     ]
    }
   ],
   "source": [
    "ratings = pd.read_csv('datasets/ratings.csv')\n",
    "\n",
    "# Tampilkan 5 baris pertama\n",
    "print(ratings.head())\n"
   ]
  },
  {
   "cell_type": "markdown",
   "metadata": {
    "id": "PzwT8LKTM2qr"
   },
   "source": [
    "#### Buat user-item matrix\n",
    "Membentuk user-item matrix, yaitu matriks dengan baris sebagai userId dan kolom sebagai movieId. Matriks ini akan digunakan untuk collaborative filtering."
   ]
  },
  {
   "cell_type": "code",
   "execution_count": 13,
   "metadata": {
    "colab": {
     "base_uri": "https://localhost:8080/",
     "height": 304
    },
    "id": "AK-5GZjNM9gA",
    "outputId": "416e1261-4d6f-465a-815b-94aa3dff193f"
   },
   "outputs": [
    {
     "name": "stdout",
     "output_type": "stream",
     "text": [
      "User-Item Matrix shape: (610, 9724)\n"
     ]
    },
    {
     "data": {
      "text/html": [
       "<div>\n",
       "<style scoped>\n",
       "    .dataframe tbody tr th:only-of-type {\n",
       "        vertical-align: middle;\n",
       "    }\n",
       "\n",
       "    .dataframe tbody tr th {\n",
       "        vertical-align: top;\n",
       "    }\n",
       "\n",
       "    .dataframe thead th {\n",
       "        text-align: right;\n",
       "    }\n",
       "</style>\n",
       "<table border=\"1\" class=\"dataframe\">\n",
       "  <thead>\n",
       "    <tr style=\"text-align: right;\">\n",
       "      <th>movieId</th>\n",
       "      <th>1</th>\n",
       "      <th>2</th>\n",
       "      <th>3</th>\n",
       "      <th>4</th>\n",
       "      <th>5</th>\n",
       "      <th>6</th>\n",
       "      <th>7</th>\n",
       "      <th>8</th>\n",
       "      <th>9</th>\n",
       "      <th>10</th>\n",
       "      <th>...</th>\n",
       "      <th>193565</th>\n",
       "      <th>193567</th>\n",
       "      <th>193571</th>\n",
       "      <th>193573</th>\n",
       "      <th>193579</th>\n",
       "      <th>193581</th>\n",
       "      <th>193583</th>\n",
       "      <th>193585</th>\n",
       "      <th>193587</th>\n",
       "      <th>193609</th>\n",
       "    </tr>\n",
       "    <tr>\n",
       "      <th>userId</th>\n",
       "      <th></th>\n",
       "      <th></th>\n",
       "      <th></th>\n",
       "      <th></th>\n",
       "      <th></th>\n",
       "      <th></th>\n",
       "      <th></th>\n",
       "      <th></th>\n",
       "      <th></th>\n",
       "      <th></th>\n",
       "      <th></th>\n",
       "      <th></th>\n",
       "      <th></th>\n",
       "      <th></th>\n",
       "      <th></th>\n",
       "      <th></th>\n",
       "      <th></th>\n",
       "      <th></th>\n",
       "      <th></th>\n",
       "      <th></th>\n",
       "      <th></th>\n",
       "    </tr>\n",
       "  </thead>\n",
       "  <tbody>\n",
       "    <tr>\n",
       "      <th>1</th>\n",
       "      <td>4.0</td>\n",
       "      <td>NaN</td>\n",
       "      <td>4.0</td>\n",
       "      <td>NaN</td>\n",
       "      <td>NaN</td>\n",
       "      <td>4.0</td>\n",
       "      <td>NaN</td>\n",
       "      <td>NaN</td>\n",
       "      <td>NaN</td>\n",
       "      <td>NaN</td>\n",
       "      <td>...</td>\n",
       "      <td>NaN</td>\n",
       "      <td>NaN</td>\n",
       "      <td>NaN</td>\n",
       "      <td>NaN</td>\n",
       "      <td>NaN</td>\n",
       "      <td>NaN</td>\n",
       "      <td>NaN</td>\n",
       "      <td>NaN</td>\n",
       "      <td>NaN</td>\n",
       "      <td>NaN</td>\n",
       "    </tr>\n",
       "    <tr>\n",
       "      <th>2</th>\n",
       "      <td>NaN</td>\n",
       "      <td>NaN</td>\n",
       "      <td>NaN</td>\n",
       "      <td>NaN</td>\n",
       "      <td>NaN</td>\n",
       "      <td>NaN</td>\n",
       "      <td>NaN</td>\n",
       "      <td>NaN</td>\n",
       "      <td>NaN</td>\n",
       "      <td>NaN</td>\n",
       "      <td>...</td>\n",
       "      <td>NaN</td>\n",
       "      <td>NaN</td>\n",
       "      <td>NaN</td>\n",
       "      <td>NaN</td>\n",
       "      <td>NaN</td>\n",
       "      <td>NaN</td>\n",
       "      <td>NaN</td>\n",
       "      <td>NaN</td>\n",
       "      <td>NaN</td>\n",
       "      <td>NaN</td>\n",
       "    </tr>\n",
       "    <tr>\n",
       "      <th>3</th>\n",
       "      <td>NaN</td>\n",
       "      <td>NaN</td>\n",
       "      <td>NaN</td>\n",
       "      <td>NaN</td>\n",
       "      <td>NaN</td>\n",
       "      <td>NaN</td>\n",
       "      <td>NaN</td>\n",
       "      <td>NaN</td>\n",
       "      <td>NaN</td>\n",
       "      <td>NaN</td>\n",
       "      <td>...</td>\n",
       "      <td>NaN</td>\n",
       "      <td>NaN</td>\n",
       "      <td>NaN</td>\n",
       "      <td>NaN</td>\n",
       "      <td>NaN</td>\n",
       "      <td>NaN</td>\n",
       "      <td>NaN</td>\n",
       "      <td>NaN</td>\n",
       "      <td>NaN</td>\n",
       "      <td>NaN</td>\n",
       "    </tr>\n",
       "    <tr>\n",
       "      <th>4</th>\n",
       "      <td>NaN</td>\n",
       "      <td>NaN</td>\n",
       "      <td>NaN</td>\n",
       "      <td>NaN</td>\n",
       "      <td>NaN</td>\n",
       "      <td>NaN</td>\n",
       "      <td>NaN</td>\n",
       "      <td>NaN</td>\n",
       "      <td>NaN</td>\n",
       "      <td>NaN</td>\n",
       "      <td>...</td>\n",
       "      <td>NaN</td>\n",
       "      <td>NaN</td>\n",
       "      <td>NaN</td>\n",
       "      <td>NaN</td>\n",
       "      <td>NaN</td>\n",
       "      <td>NaN</td>\n",
       "      <td>NaN</td>\n",
       "      <td>NaN</td>\n",
       "      <td>NaN</td>\n",
       "      <td>NaN</td>\n",
       "    </tr>\n",
       "    <tr>\n",
       "      <th>5</th>\n",
       "      <td>4.0</td>\n",
       "      <td>NaN</td>\n",
       "      <td>NaN</td>\n",
       "      <td>NaN</td>\n",
       "      <td>NaN</td>\n",
       "      <td>NaN</td>\n",
       "      <td>NaN</td>\n",
       "      <td>NaN</td>\n",
       "      <td>NaN</td>\n",
       "      <td>NaN</td>\n",
       "      <td>...</td>\n",
       "      <td>NaN</td>\n",
       "      <td>NaN</td>\n",
       "      <td>NaN</td>\n",
       "      <td>NaN</td>\n",
       "      <td>NaN</td>\n",
       "      <td>NaN</td>\n",
       "      <td>NaN</td>\n",
       "      <td>NaN</td>\n",
       "      <td>NaN</td>\n",
       "      <td>NaN</td>\n",
       "    </tr>\n",
       "  </tbody>\n",
       "</table>\n",
       "<p>5 rows × 9724 columns</p>\n",
       "</div>"
      ],
      "text/plain": [
       "movieId  1       2       3       4       5       6       7       8       \\\n",
       "userId                                                                    \n",
       "1           4.0     NaN     4.0     NaN     NaN     4.0     NaN     NaN   \n",
       "2           NaN     NaN     NaN     NaN     NaN     NaN     NaN     NaN   \n",
       "3           NaN     NaN     NaN     NaN     NaN     NaN     NaN     NaN   \n",
       "4           NaN     NaN     NaN     NaN     NaN     NaN     NaN     NaN   \n",
       "5           4.0     NaN     NaN     NaN     NaN     NaN     NaN     NaN   \n",
       "\n",
       "movieId  9       10      ...  193565  193567  193571  193573  193579  193581  \\\n",
       "userId                   ...                                                   \n",
       "1           NaN     NaN  ...     NaN     NaN     NaN     NaN     NaN     NaN   \n",
       "2           NaN     NaN  ...     NaN     NaN     NaN     NaN     NaN     NaN   \n",
       "3           NaN     NaN  ...     NaN     NaN     NaN     NaN     NaN     NaN   \n",
       "4           NaN     NaN  ...     NaN     NaN     NaN     NaN     NaN     NaN   \n",
       "5           NaN     NaN  ...     NaN     NaN     NaN     NaN     NaN     NaN   \n",
       "\n",
       "movieId  193583  193585  193587  193609  \n",
       "userId                                   \n",
       "1           NaN     NaN     NaN     NaN  \n",
       "2           NaN     NaN     NaN     NaN  \n",
       "3           NaN     NaN     NaN     NaN  \n",
       "4           NaN     NaN     NaN     NaN  \n",
       "5           NaN     NaN     NaN     NaN  \n",
       "\n",
       "[5 rows x 9724 columns]"
      ]
     },
     "execution_count": 13,
     "metadata": {},
     "output_type": "execute_result"
    }
   ],
   "source": [
    "# Buat matriks pengguna x film (nilai = rating)\n",
    "user_item_matrix = ratings.pivot_table(index='userId', columns='movieId', values='rating')\n",
    "\n",
    "# Tampilkan ukuran dan contoh matriks\n",
    "print(\"User-Item Matrix shape:\", user_item_matrix.shape)\n",
    "user_item_matrix.head()\n"
   ]
  },
  {
   "cell_type": "markdown",
   "metadata": {},
   "source": [
    "Nilai kosong (NaN) pada user-item matrix diisi dengan 0 agar dapat digunakan untuk perhitungan kemiripan dan prediksi rating."
   ]
  },
  {
   "cell_type": "code",
   "execution_count": 14,
   "metadata": {
    "id": "MxqE4koINFkR"
   },
   "outputs": [],
   "source": [
    "# Ganti NaN dengan 0\n",
    "user_item_matrix_filled = user_item_matrix.fillna(0)\n"
   ]
  },
  {
   "cell_type": "markdown",
   "metadata": {},
   "source": [
    "#### Split Data\n",
    "Data rating dibagi menjadi data latih (train) dan data uji (test) untuk keperluan evaluasi model collaborative filtering."
   ]
  },
  {
   "cell_type": "code",
   "execution_count": 15,
   "metadata": {},
   "outputs": [],
   "source": [
    "# Split data menjadi train dan test (misal, 80% train, 20% test)\n",
    "train, test = train_test_split(ratings_df, test_size=0.2, random_state=42)"
   ]
  },
  {
   "cell_type": "markdown",
   "metadata": {},
   "source": [
    "## Modeling\n",
    "Pada tahap modeling, dua pendekatan utama digunakan untuk membangun sistem rekomendasi, yaitu Content-Based Filtering dan Collaborative Filtering."
   ]
  },
  {
   "cell_type": "markdown",
   "metadata": {
    "id": "KXyS563X1FvV"
   },
   "source": [
    "### Content-Based Filtering\n",
    "Pada bagian ini dilakukan pemodelan sistem rekomendasi berbasis konten (Content-Based Filtering). Model ini menggunakan kemiripan antar film berdasarkan genre yang telah direpresentasikan dalam bentuk vektor fitur."
   ]
  },
  {
   "cell_type": "markdown",
   "metadata": {
    "id": "Q4yCIQuCNkB_"
   },
   "source": [
    "#### Hitung Cosine Similarity antar Film\n",
    "Fungsi berikut digunakan untuk mengambil daftar film yang paling mirip dengan film yang dipilih, berdasarkan nilai similarity tertinggi. Fungsi ini akan digunakan untuk menghasilkan rekomendasi film."
   ]
  },
  {
   "cell_type": "code",
   "execution_count": 16,
   "metadata": {
    "id": "uddVKgy8Nhxv"
   },
   "outputs": [],
   "source": [
    "from sklearn.metrics.pairwise import linear_kernel\n",
    "\n",
    "# Hitung cosine similarity dari TF-IDF matrix genre\n",
    "cosine_sim = linear_kernel(tfidf_matrix, tfidf_matrix)\n",
    "\n",
    "# Simpan index berdasarkan judul\n",
    "indices = pd.Series(movies.index, index=movies['title']).drop_duplicates()\n"
   ]
  },
  {
   "cell_type": "markdown",
   "metadata": {
    "id": "pFJRBKG_NrDe"
   },
   "source": [
    "#### Fungsi untuk mendapatkan rekomendasi\n",
    "Fungsi berikut digunakan untuk mengambil daftar film yang paling mirip dengan film yang dipilih, berdasarkan nilai similarity tertinggi. Fungsi ini akan digunakan untuk menghasilkan rekomendasi film."
   ]
  },
  {
   "cell_type": "code",
   "execution_count": 17,
   "metadata": {
    "id": "lAN0LZKzNqBm"
   },
   "outputs": [],
   "source": [
    "def get_recommendations(title, cosine_sim=cosine_sim, num_recommendations=10):\n",
    "    # Dapatkan index dari judul film\n",
    "    idx = indices[title]\n",
    "\n",
    "    # Dapatkan pasangan (index, similarity) dan urutkan berdasarkan similarity\n",
    "    sim_scores = list(enumerate(cosine_sim[idx]))\n",
    "    sim_scores = sorted(sim_scores, key=lambda x: x[1], reverse=True)\n",
    "\n",
    "    # Ambil top N film (tidak termasuk dirinya sendiri)\n",
    "    sim_scores = sim_scores[1:num_recommendations+1]\n",
    "\n",
    "    # Ambil index film\n",
    "    movie_indices = [i[0] for i in sim_scores]\n",
    "\n",
    "    # Kembalikan daftar judul\n",
    "    return movies['title'].iloc[movie_indices]\n"
   ]
  },
  {
   "cell_type": "markdown",
   "metadata": {
    "id": "1fcGVHqUN1Ai"
   },
   "source": [
    "#### Hasil penggunaan — Rekomendasi untuk satu film\n",
    "Contoh penggunaan fungsi rekomendasi untuk mencari film yang mirip dengan \"Toy Story (1995)\". Hasil rekomendasi ditampilkan dalam bentuk tabel."
   ]
  },
  {
   "cell_type": "code",
   "execution_count": 18,
   "metadata": {
    "colab": {
     "base_uri": "https://localhost:8080/"
    },
    "id": "6wqLzKDnNzyd",
    "outputId": "58317942-43e1-48c3-b1ec-61d4019eeb61"
   },
   "outputs": [
    {
     "name": "stdout",
     "output_type": "stream",
     "text": [
      "Rekomendasi film mirip dengan 'Toy Story (1995)':\n",
      "1706                                          Antz (1998)\n",
      "2355                                   Toy Story 2 (1999)\n",
      "2809       Adventures of Rocky and Bullwinkle, The (2000)\n",
      "3000                     Emperor's New Groove, The (2000)\n",
      "3568                                Monsters, Inc. (2001)\n",
      "6194                                     Wild, The (2006)\n",
      "6486                               Shrek the Third (2007)\n",
      "6948                       Tale of Despereaux, The (2008)\n",
      "7760    Asterix and the Vikings (Astérix et les Viking...\n",
      "8219                                         Turbo (2013)\n",
      "Name: title, dtype: object\n",
      "\n",
      "Tabel Rekomendasi Film:\n"
     ]
    },
    {
     "data": {
      "text/html": [
       "<div>\n",
       "<style scoped>\n",
       "    .dataframe tbody tr th:only-of-type {\n",
       "        vertical-align: middle;\n",
       "    }\n",
       "\n",
       "    .dataframe tbody tr th {\n",
       "        vertical-align: top;\n",
       "    }\n",
       "\n",
       "    .dataframe thead th {\n",
       "        text-align: right;\n",
       "    }\n",
       "</style>\n",
       "<table border=\"1\" class=\"dataframe\">\n",
       "  <thead>\n",
       "    <tr style=\"text-align: right;\">\n",
       "      <th></th>\n",
       "      <th>Rekomendasi</th>\n",
       "    </tr>\n",
       "  </thead>\n",
       "  <tbody>\n",
       "    <tr>\n",
       "      <th>0</th>\n",
       "      <td>Antz (1998)</td>\n",
       "    </tr>\n",
       "    <tr>\n",
       "      <th>1</th>\n",
       "      <td>Toy Story 2 (1999)</td>\n",
       "    </tr>\n",
       "    <tr>\n",
       "      <th>2</th>\n",
       "      <td>Adventures of Rocky and Bullwinkle, The (2000)</td>\n",
       "    </tr>\n",
       "    <tr>\n",
       "      <th>3</th>\n",
       "      <td>Emperor's New Groove, The (2000)</td>\n",
       "    </tr>\n",
       "    <tr>\n",
       "      <th>4</th>\n",
       "      <td>Monsters, Inc. (2001)</td>\n",
       "    </tr>\n",
       "    <tr>\n",
       "      <th>5</th>\n",
       "      <td>Wild, The (2006)</td>\n",
       "    </tr>\n",
       "    <tr>\n",
       "      <th>6</th>\n",
       "      <td>Shrek the Third (2007)</td>\n",
       "    </tr>\n",
       "    <tr>\n",
       "      <th>7</th>\n",
       "      <td>Tale of Despereaux, The (2008)</td>\n",
       "    </tr>\n",
       "    <tr>\n",
       "      <th>8</th>\n",
       "      <td>Asterix and the Vikings (Astérix et les Viking...</td>\n",
       "    </tr>\n",
       "    <tr>\n",
       "      <th>9</th>\n",
       "      <td>Turbo (2013)</td>\n",
       "    </tr>\n",
       "  </tbody>\n",
       "</table>\n",
       "</div>"
      ],
      "text/plain": [
       "                                         Rekomendasi\n",
       "0                                        Antz (1998)\n",
       "1                                 Toy Story 2 (1999)\n",
       "2     Adventures of Rocky and Bullwinkle, The (2000)\n",
       "3                   Emperor's New Groove, The (2000)\n",
       "4                              Monsters, Inc. (2001)\n",
       "5                                   Wild, The (2006)\n",
       "6                             Shrek the Third (2007)\n",
       "7                     Tale of Despereaux, The (2008)\n",
       "8  Asterix and the Vikings (Astérix et les Viking...\n",
       "9                                       Turbo (2013)"
      ]
     },
     "metadata": {},
     "output_type": "display_data"
    }
   ],
   "source": [
    "# Contoh: Rekomendasikan film mirip dengan \"Toy Story (1995)\"\n",
    "recommended_movies = get_recommendations(\"Toy Story (1995)\")\n",
    "print(\"Rekomendasi film mirip dengan 'Toy Story (1995)':\")\n",
    "print(recommended_movies)\n",
    "# Visualisasi tabel rekomendasi\n",
    "import matplotlib.pyplot as plt\n",
    "\n",
    "# Buat DataFrame dari hasil rekomendasi\n",
    "recommended_df = pd.DataFrame({'Rekomendasi': recommended_movies.values})\n",
    "\n",
    "# Tampilkan tabel\n",
    "print(\"\\nTabel Rekomendasi Film:\")\n",
    "display(recommended_df)"
   ]
  },
  {
   "cell_type": "markdown",
   "metadata": {
    "id": "XSSx1Pv7PB44"
   },
   "source": [
    "### Collaborative Filtering (Item-based)\n",
    "Pada bagian ini dilakukan pemodelan collaborative filtering (item-based), yaitu sistem rekomendasi yang memanfaatkan pola rating pengguna terhadap film untuk mencari kemiripan antar item (film)."
   ]
  },
  {
   "cell_type": "markdown",
   "metadata": {
    "id": "aDeLsbNyPPc9"
   },
   "source": [
    "####  Membuat matrix user-item rating\n",
    "Membentuk kembali user-item matrix khusus untuk collaborative filtering, dengan userId sebagai baris, movieId sebagai kolom dan rating sebagai nilai."
   ]
  },
  {
   "cell_type": "code",
   "execution_count": 19,
   "metadata": {
    "id": "tGabMm1jPNjH"
   },
   "outputs": [],
   "source": [
    "# Membuat pivot table userId sebagai baris, movieId sebagai kolom, dan rating sebagai nilai\n",
    "user_movie_ratings = ratings.pivot(index='userId', columns='movieId', values='rating').fillna(0)\n"
   ]
  },
  {
   "cell_type": "markdown",
   "metadata": {
    "id": "DjnGXB8mPVtv"
   },
   "source": [
    "#### Hitung kemiripan antar item (movie)\n",
    "Cosine similarity digunakan untuk menghitung tingkat kemiripan antar film berdasarkan pola rating dari seluruh user. Matriks kemiripan ini akan digunakan untuk proses rekomendasi item-based."
   ]
  },
  {
   "cell_type": "code",
   "execution_count": 20,
   "metadata": {
    "id": "bfJjKHwzPZHI"
   },
   "outputs": [],
   "source": [
    "from sklearn.metrics.pairwise import cosine_similarity\n",
    "\n",
    "# Hitung cosine similarity antar item (film)\n",
    "item_similarity = cosine_similarity(user_movie_ratings.T)\n",
    "item_similarity_df = pd.DataFrame(item_similarity, index=user_movie_ratings.columns, columns=user_movie_ratings.columns)\n"
   ]
  },
  {
   "cell_type": "markdown",
   "metadata": {
    "id": "-4XzWxVYPekE"
   },
   "source": [
    "#### Fungsi rekomendasi item-based CF\n",
    "Fungsi berikut digunakan untuk menghasilkan rekomendasi film berdasarkan kemiripan item (item-based collaborative filtering). Fungsi ini mencari film yang paling mirip dengan film yang sudah diberi rating tinggi oleh user."
   ]
  },
  {
   "cell_type": "code",
   "execution_count": 21,
   "metadata": {
    "id": "HWtBt5z-PgBL"
   },
   "outputs": [],
   "source": [
    "def get_item_based_recommendations(movie_id, user_rating=5, top_n=10):\n",
    "    # Ambil skor kemiripan film lain dengan film yang diberikan\n",
    "    sim_scores = item_similarity_df[movie_id]\n",
    "\n",
    "    # Kalikan dengan rating user pada film tersebut\n",
    "    sim_scores = sim_scores * user_rating\n",
    "\n",
    "    # Urutkan film berdasarkan skor tertinggi, kecuali film itu sendiri\n",
    "    sim_scores = sim_scores.sort_values(ascending=False)\n",
    "\n",
    "    # Keluarkan film yang sama (movie_id)\n",
    "    sim_scores = sim_scores.drop(movie_id, errors='ignore')\n",
    "\n",
    "    # Ambil top_n film\n",
    "    top_movies = sim_scores.head(top_n).index\n",
    "\n",
    "    # Kembalikan judul film sesuai movieId\n",
    "    return movies[movies['movieId'].isin(top_movies)]['title']\n"
   ]
  },
  {
   "cell_type": "markdown",
   "metadata": {
    "id": "9CKftebaPjER"
   },
   "source": [
    "#### Hasil Penggunaan\n",
    "Contoh penggunaan fungsi rekomendasi item-based collaborative filtering untuk mencari film yang mirip dengan \"Toy Story (1995)\" berdasarkan pola rating user lain."
   ]
  },
  {
   "cell_type": "code",
   "execution_count": 22,
   "metadata": {
    "colab": {
     "base_uri": "https://localhost:8080/"
    },
    "id": "YKlZZkdDPuax",
    "outputId": "f781588d-e078-4588-f148-73748a7df82f"
   },
   "outputs": [
    {
     "name": "stdout",
     "output_type": "stream",
     "text": [
      "Rekomendasi film berdasarkan rating item Toy Story (movieId=1):\n",
      "224             Star Wars: Episode IV - A New Hope (1977)\n",
      "314                                   Forrest Gump (1994)\n",
      "322                                 Lion King, The (1994)\n",
      "418                                  Jurassic Park (1993)\n",
      "546                            Mission: Impossible (1996)\n",
      "615                  Independence Day (a.k.a. ID4) (1996)\n",
      "911     Star Wars: Episode VI - Return of the Jedi (1983)\n",
      "964                                  Groundhog Day (1993)\n",
      "969                             Back to the Future (1985)\n",
      "2355                                   Toy Story 2 (1999)\n",
      "Name: title, dtype: object\n",
      "\n",
      "Urutan Rekomendasi Film (Item-based CF) untuk Toy Story (1995):\n",
      "1. Star Wars: Episode IV - A New Hope (1977)\n",
      "2. Forrest Gump (1994)\n",
      "3. Lion King, The (1994)\n",
      "4. Jurassic Park (1993)\n",
      "5. Mission: Impossible (1996)\n",
      "6. Independence Day (a.k.a. ID4) (1996)\n",
      "7. Star Wars: Episode VI - Return of the Jedi (1983)\n",
      "8. Groundhog Day (1993)\n",
      "9. Back to the Future (1985)\n",
      "10. Toy Story 2 (1999)\n"
     ]
    }
   ],
   "source": [
    "# Misal user memberi rating 5 untuk film dengan movieId 1 (Toy Story)\n",
    "recommended_items = get_item_based_recommendations(1, user_rating=5, top_n=10)\n",
    "print(\"Rekomendasi film berdasarkan rating item Toy Story (movieId=1):\")\n",
    "print(recommended_items)\n",
    "# Tampilkan urutan rekomendasi film dengan nomor saja (tanpa visual/bar/warna)\n",
    "print(\"\\nUrutan Rekomendasi Film (Item-based CF) untuk Toy Story (1995):\")\n",
    "for i, title in enumerate(recommended_items.values, 1):\n",
    "    print(f\"{i}. {title}\")\n"
   ]
  },
  {
   "cell_type": "markdown",
   "metadata": {
    "id": "-xmuEpywTfco"
   },
   "source": [
    "## Evaluation"
   ]
  },
  {
   "cell_type": "markdown",
   "metadata": {},
   "source": [
    "### Content-Based Filtering (Precision)\n",
    "Evaluasi sistem rekomendasi content-based filtering menggunakan metrik precision. Precision mengukur seberapa banyak film yang direkomendasikan benar-benar relevan bagi user."
   ]
  },
  {
   "cell_type": "markdown",
   "metadata": {},
   "source": [
    "#### Evaluasi Precision untuk Satu User\n",
    "Contoh perhitungan precision untuk satu user, yaitu membandingkan hasil rekomendasi dengan daftar film yang pernah diberi rating tinggi oleh user tersebut."
   ]
  },
  {
   "cell_type": "code",
   "execution_count": 23,
   "metadata": {
    "id": "e5nUoK16Twi0"
   },
   "outputs": [
    {
     "name": "stdout",
     "output_type": "stream",
     "text": [
      "Precision untuk user 111 dengan query 'Casino (1995)': 0.10\n"
     ]
    }
   ],
   "source": [
    "# Contoh evaluasi precision untuk satu user\n",
    "# Misal, user_id = 111, dan kita tahu film apa saja yang pernah diberi rating tinggi oleh user ini\n",
    "user_id = 111\n",
    "user_rated_movies = ratings_df[(ratings_df['userId'] == user_id) & (ratings_df['rating'] >= 4)]['movieId']\n",
    "user_rated_titles = movies_df[movies_df['movieId'].isin(user_rated_movies)]['title']\n",
    "\n",
    "# Pilih salah satu film yang pernah disukai user\n",
    "if not user_rated_titles.empty:\n",
    "    test_title = user_rated_titles.iloc[0]\n",
    "    recommended_titles = get_recommendations(test_title, num_recommendations=10)\n",
    "    # Hitung precision: berapa dari rekomendasi yang juga pernah diberi rating tinggi oleh user\n",
    "    relevant = recommended_titles.isin(user_rated_titles).sum()\n",
    "    precision = relevant / len(recommended_titles)\n",
    "    print(f\"Precision untuk user {user_id} dengan query '{test_title}': {precision:.2f}\")\n",
    "else:\n",
    "    print(\"User tidak memiliki film dengan rating tinggi untuk evaluasi.\")"
   ]
  },
  {
   "cell_type": "markdown",
   "metadata": {},
   "source": [
    "#### Evaluasi Precision untuk Beberapa User\n",
    "Perhitungan precision untuk beberapa user sekaligus, untuk melihat seberapa baik sistem dalam merekomendasikan film yang relevan pada berbagai user."
   ]
  },
  {
   "cell_type": "code",
   "execution_count": 24,
   "metadata": {},
   "outputs": [
    {
     "name": "stdout",
     "output_type": "stream",
     "text": [
      "    userId                                  query_film  precision\n",
      "0        4  Nobody Loves Me (Keiner liebt mich) (1994)        0.1\n",
      "1      100              American President, The (1995)        0.1\n",
      "2       20                                Balto (1995)        0.2\n",
      "3       30                           Braveheart (1995)        0.0\n",
      "4       23                                 Heat (1995)        0.0\n",
      "5       50                          Taxi Driver (1976)        0.0\n",
      "6       60            Shawshank Redemption, The (1994)        0.1\n",
      "7       70                     Dead Man Walking (1995)        0.2\n",
      "8       80   Twelve Monkeys (a.k.a. 12 Monkeys) (1995)        0.3\n",
      "9       90                              Sabrina (1995)        0.1\n",
      "10     111                               Casino (1995)        0.1\n"
     ]
    }
   ],
   "source": [
    "# Daftar userId yang ingin dievaluasi\n",
    "user_ids = [4, 100, 20, 30, 23, 50, 60, 70, 80, 90, 111]\n",
    "\n",
    "precision_results = []\n",
    "\n",
    "for user_id in user_ids:\n",
    "    user_rated_movies = ratings_df[(ratings_df['userId'] == user_id) & (ratings_df['rating'] >= 4)]['movieId']\n",
    "    user_rated_titles = movies_df[movies_df['movieId'].isin(user_rated_movies)]['title']\n",
    "    if not user_rated_titles.empty:\n",
    "        test_title = user_rated_titles.iloc[0]\n",
    "        recommended_titles = get_recommendations(test_title, num_recommendations=10)\n",
    "        relevant = recommended_titles.isin(user_rated_titles).sum()\n",
    "        precision = relevant / len(recommended_titles)\n",
    "        precision_results.append({\n",
    "            'userId': user_id,\n",
    "            'query_film': test_title,\n",
    "            'precision': precision\n",
    "        })\n",
    "    else:\n",
    "        precision_results.append({\n",
    "            'userId': user_id,\n",
    "            'query_film': '-',\n",
    "            'precision': None\n",
    "        })\n",
    "\n",
    "precision_df = pd.DataFrame(precision_results)\n",
    "print(precision_df)"
   ]
  },
  {
   "cell_type": "markdown",
   "metadata": {},
   "source": [
    "#### Visualisasi Precision Beberapa User\n",
    "Visualisasi hasil precision beberapa user dalam bentuk bar chart untuk memudahkan interpretasi performa sistem rekomendasi content-based filtering."
   ]
  },
  {
   "cell_type": "code",
   "execution_count": 25,
   "metadata": {},
   "outputs": [
    {
     "data": {
      "image/png": "[encoded data removed]",
      "text/plain": [
       "<Figure size 800x500 with 1 Axes>"
      ]
     },
     "metadata": {},
     "output_type": "display_data"
    }
   ],
   "source": [
    "# Filter hanya user yang memiliki nilai precision (bukan None)\n",
    "plot_df = precision_df.dropna(subset=['precision'])\n",
    "\n",
    "plt.figure(figsize=(8, 5))\n",
    "plt.bar(plot_df['userId'].astype(str), plot_df['precision'], color='skyblue')\n",
    "plt.xlabel('User ID')\n",
    "plt.ylabel('Precision')\n",
    "plt.title('Precision Content-Based Filtering untuk Beberapa User')\n",
    "plt.ylim(0, 1)\n",
    "plt.grid(axis='y', linestyle='--', alpha=0.7)\n",
    "plt.show()"
   ]
  },
  {
   "cell_type": "markdown",
   "metadata": {},
   "source": [
    "### Collaborative Filtering (RMSE)\n",
    "Evaluasi collaborative filtering dilakukan menggunakan metrik RMSE (Root Mean Squared Error) untuk mengukur seberapa dekat prediksi rating terhadap rating aktual user."
   ]
  },
  {
   "cell_type": "markdown",
   "metadata": {},
   "source": [
    "#### Menggunakan Data Train\n",
    "Pada tahap ini, model collaborative filtering dilatih menggunakan data train. Matriks kemiripan antar item dihitung dari data latih, dan fungsi prediksi rating didefinisikan."
   ]
  },
  {
   "cell_type": "code",
   "execution_count": 26,
   "metadata": {},
   "outputs": [],
   "source": [
    "# Buat user-item matrix dari data train\n",
    "train_matrix = train.pivot_table(index='userId', columns='movieId', values='rating').fillna(0)\n",
    "\n",
    "# Hitung similarity matrix dari data train\n",
    "item_similarity_train = cosine_similarity(train_matrix.T)\n",
    "item_similarity_train_df = pd.DataFrame(item_similarity_train, index=train_matrix.columns, columns=train_matrix.columns)\n",
    "\n",
    "def predict_rating(user_id, movie_id, user_movie_matrix, similarity_matrix):\n",
    "    if movie_id not in similarity_matrix.columns or user_id not in user_movie_matrix.index:\n",
    "        return np.nan\n",
    "    # Ambil rating user untuk semua film\n",
    "    user_ratings = user_movie_matrix.loc[user_id]\n",
    "    # Ambil similarity film ini dengan semua film lain\n",
    "    sim_scores = similarity_matrix[movie_id]\n",
    "    # Hanya gunakan film yang pernah dirating user\n",
    "    mask = user_ratings > 0\n",
    "    if mask.sum() == 0:\n",
    "        return np.nan\n",
    "    sim_scores = sim_scores[mask]\n",
    "    user_ratings = user_ratings[mask]\n",
    "    if sim_scores.sum() == 0:\n",
    "        return np.nan\n",
    "    # Prediksi rating sebagai weighted average\n",
    "    return np.dot(sim_scores, user_ratings) / sim_scores.sum()"
   ]
  },
  {
   "cell_type": "markdown",
   "metadata": {},
   "source": [
    "#### Menggunakan Data Test\n",
    "Prediksi rating dilakukan pada data test, kemudian dihitung nilai RMSE untuk mengukur akurasi model collaborative filtering secara keseluruhan."
   ]
  },
  {
   "cell_type": "code",
   "execution_count": 27,
   "metadata": {},
   "outputs": [
    {
     "name": "stdout",
     "output_type": "stream",
     "text": [
      "RMSE Collaborative Filtering (item-based): 0.92\n"
     ]
    }
   ],
   "source": [
    "# Prediksi rating untuk data test\n",
    "y_true = []\n",
    "y_pred = []\n",
    "for row in test.itertuples():\n",
    "    pred = predict_rating(row.userId, row.movieId, train_matrix, item_similarity_train_df)\n",
    "    if not np.isnan(pred):\n",
    "        y_true.append(row.rating)\n",
    "        y_pred.append(pred)\n",
    "\n",
    "if y_true:\n",
    "    mse = mean_squared_error(y_true, y_pred)\n",
    "    rmse = np.sqrt(mse)\n",
    "    print(f\"RMSE Collaborative Filtering (item-based): {rmse:.2f}\")\n",
    "else:\n",
    "    print(\"Tidak ada prediksi yang dapat dihitung untuk RMSE.\")"
   ]
  },
  {
   "cell_type": "markdown",
   "metadata": {},
   "source": [
    "#### Evaluasi RMSE per User\n",
    "Pada bagian ini dilakukan evaluasi performa model collaborative filtering secara individual untuk beberapa user. RMSE dihitung untuk setiap user berdasarkan prediksi dan rating aktual pada data uji, sehingga dapat diketahui variasi akurasi model pada masing-masing user.\n"
   ]
  },
  {
   "cell_type": "code",
   "execution_count": 28,
   "metadata": {},
   "outputs": [
    {
     "name": "stdout",
     "output_type": "stream",
     "text": [
      "   userId      rmse\n",
      "0     432  0.799536\n",
      "1     288  0.788933\n",
      "2     599  0.780508\n",
      "3      42  1.037038\n",
      "4      75  1.565903\n",
      "5      51  1.457307\n",
      "6     354  0.560865\n",
      "7     416  1.081811\n",
      "8     438  1.034109\n",
      "9      73  0.902877\n"
     ]
    }
   ],
   "source": [
    "# Ambil userId unik dari data test\n",
    "user_ids_test = test['userId'].unique()\n",
    "\n",
    "user_rmse_results = []\n",
    "\n",
    "for user_id in user_ids_test[:10]:  # ambil 10 user pertama (atau ganti sesuai kebutuhan)\n",
    "    user_test = test[test['userId'] == user_id]\n",
    "    y_true = []\n",
    "    y_pred = []\n",
    "    for row in user_test.itertuples():\n",
    "        pred = predict_rating(row.userId, row.movieId, train_matrix, item_similarity_train_df)\n",
    "        if not np.isnan(pred):\n",
    "            y_true.append(row.rating)\n",
    "            y_pred.append(pred)\n",
    "    if y_true:\n",
    "        rmse = np.sqrt(mean_squared_error(y_true, y_pred))\n",
    "        user_rmse_results.append({'userId': user_id, 'rmse': rmse})\n",
    "    else:\n",
    "        user_rmse_results.append({'userId': user_id, 'rmse': None})\n",
    "\n",
    "user_rmse_df = pd.DataFrame(user_rmse_results)\n",
    "print(user_rmse_df)"
   ]
  },
  {
   "cell_type": "markdown",
   "metadata": {},
   "source": [
    "#### Visualisasi RMSE per User\n",
    "Perhitungan dan visualisasi RMSE untuk beberapa user secara individual, untuk melihat variasi performa model pada masing-masing user. Visualisasi ini membantu mengidentifikasi user yang prediksinya paling akurat maupun yang masih perlu perbaikan."
   ]
  },
  {
   "cell_type": "code",
   "execution_count": 29,
   "metadata": {},
   "outputs": [
    {
     "data": {
      "image/png": "[encoded data removed]",
      "text/plain": [
       "<Figure size 800x500 with 1 Axes>"
      ]
     },
     "metadata": {},
     "output_type": "display_data"
    }
   ],
   "source": [
    "# Visualisasi RMSE per user\n",
    "plot_rmse_df = user_rmse_df.dropna(subset=['rmse'])\n",
    "\n",
    "plt.figure(figsize=(8, 5))\n",
    "plt.bar(plot_rmse_df['userId'].astype(str), plot_rmse_df['rmse'], color='salmon')\n",
    "plt.xlabel('User ID')\n",
    "plt.ylabel('RMSE')\n",
    "plt.title('RMSE Collaborative Filtering (item-based) per User')\n",
    "plt.grid(axis='y', linestyle='--', alpha=0.7)\n",
    "plt.show()"
   ]
  }
 ],
 "metadata": {
  "colab": {
   "provenance": []
  },
  "kernelspec": {
   "display_name": "Python 3",
   "name": "python3"
  },
  "language_info": {
   "codemirror_mode": {
    "name": "ipython",
    "version": 3
   },
   "file_extension": ".py",
   "mimetype": "text/x-python",
   "name": "python",
   "nbconvert_exporter": "python",
   "pygments_lexer": "ipython3",
   "version": "3.12.7"
  }
 },
 "nbformat": 4,
 "nbformat_minor": 0
}
